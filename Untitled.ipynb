{
 "cells": [
  {
   "cell_type": "code",
   "execution_count": 3,
   "id": "43330f14-139e-41db-ad8d-8c9f0a316c18",
   "metadata": {},
   "outputs": [
    {
     "name": "stdout",
     "output_type": "stream",
     "text": [
      "Requirement already satisfied: numpy in /usr/local/Cellar/jupyterlab/4.0.7/libexec/lib/python3.11/site-packages (1.26.1)\n",
      "\n",
      "\u001b[1m[\u001b[0m\u001b[34;49mnotice\u001b[0m\u001b[1;39;49m]\u001b[0m\u001b[39;49m A new release of pip is available: \u001b[0m\u001b[31;49m23.2.1\u001b[0m\u001b[39;49m -> \u001b[0m\u001b[32;49m23.3.1\u001b[0m\n",
      "\u001b[1m[\u001b[0m\u001b[34;49mnotice\u001b[0m\u001b[1;39;49m]\u001b[0m\u001b[39;49m To update, run: \u001b[0m\u001b[32;49m/usr/local/Cellar/jupyterlab/4.0.7/libexec/bin/python -m pip install --upgrade pip\u001b[0m\n",
      "Requirement already satisfied: scikit-learn in /usr/local/Cellar/jupyterlab/4.0.7/libexec/lib/python3.11/site-packages (1.3.2)\n",
      "Requirement already satisfied: numpy<2.0,>=1.17.3 in /usr/local/Cellar/jupyterlab/4.0.7/libexec/lib/python3.11/site-packages (from scikit-learn) (1.26.1)\n",
      "Requirement already satisfied: scipy>=1.5.0 in /usr/local/Cellar/jupyterlab/4.0.7/libexec/lib/python3.11/site-packages (from scikit-learn) (1.11.3)\n",
      "Requirement already satisfied: joblib>=1.1.1 in /usr/local/Cellar/jupyterlab/4.0.7/libexec/lib/python3.11/site-packages (from scikit-learn) (1.3.2)\n",
      "Requirement already satisfied: threadpoolctl>=2.0.0 in /usr/local/Cellar/jupyterlab/4.0.7/libexec/lib/python3.11/site-packages (from scikit-learn) (3.2.0)\n",
      "\n",
      "\u001b[1m[\u001b[0m\u001b[34;49mnotice\u001b[0m\u001b[1;39;49m]\u001b[0m\u001b[39;49m A new release of pip is available: \u001b[0m\u001b[31;49m23.2.1\u001b[0m\u001b[39;49m -> \u001b[0m\u001b[32;49m23.3.1\u001b[0m\n",
      "\u001b[1m[\u001b[0m\u001b[34;49mnotice\u001b[0m\u001b[1;39;49m]\u001b[0m\u001b[39;49m To update, run: \u001b[0m\u001b[32;49m/usr/local/Cellar/jupyterlab/4.0.7/libexec/bin/python -m pip install --upgrade pip\u001b[0m\n",
      "Requirement already satisfied: matplotlib in /usr/local/Cellar/jupyterlab/4.0.7/libexec/lib/python3.11/site-packages (3.8.1)\n",
      "Requirement already satisfied: contourpy>=1.0.1 in /usr/local/Cellar/jupyterlab/4.0.7/libexec/lib/python3.11/site-packages (from matplotlib) (1.2.0)\n",
      "Requirement already satisfied: cycler>=0.10 in /usr/local/Cellar/jupyterlab/4.0.7/libexec/lib/python3.11/site-packages (from matplotlib) (0.12.1)\n",
      "Requirement already satisfied: fonttools>=4.22.0 in /usr/local/Cellar/jupyterlab/4.0.7/libexec/lib/python3.11/site-packages (from matplotlib) (4.44.0)\n",
      "Requirement already satisfied: kiwisolver>=1.3.1 in /usr/local/Cellar/jupyterlab/4.0.7/libexec/lib/python3.11/site-packages (from matplotlib) (1.4.5)\n",
      "Requirement already satisfied: numpy<2,>=1.21 in /usr/local/Cellar/jupyterlab/4.0.7/libexec/lib/python3.11/site-packages (from matplotlib) (1.26.1)\n",
      "Requirement already satisfied: packaging>=20.0 in /usr/local/opt/python-packaging/lib/python3.11/site-packages (from matplotlib) (23.2)\n",
      "Requirement already satisfied: pillow>=8 in /usr/local/Cellar/jupyterlab/4.0.7/libexec/lib/python3.11/site-packages (from matplotlib) (10.1.0)\n",
      "Requirement already satisfied: pyparsing>=2.3.1 in /usr/local/Cellar/jupyterlab/4.0.7/libexec/lib/python3.11/site-packages (from matplotlib) (3.1.1)\n",
      "Requirement already satisfied: python-dateutil>=2.7 in /usr/local/Cellar/jupyterlab/4.0.7/libexec/lib/python3.11/site-packages (from matplotlib) (2.8.2)\n",
      "Requirement already satisfied: six>=1.5 in /usr/local/opt/six/lib/python3.11/site-packages (from python-dateutil>=2.7->matplotlib) (1.16.0)\n",
      "\n",
      "\u001b[1m[\u001b[0m\u001b[34;49mnotice\u001b[0m\u001b[1;39;49m]\u001b[0m\u001b[39;49m A new release of pip is available: \u001b[0m\u001b[31;49m23.2.1\u001b[0m\u001b[39;49m -> \u001b[0m\u001b[32;49m23.3.1\u001b[0m\n",
      "\u001b[1m[\u001b[0m\u001b[34;49mnotice\u001b[0m\u001b[1;39;49m]\u001b[0m\u001b[39;49m To update, run: \u001b[0m\u001b[32;49m/usr/local/Cellar/jupyterlab/4.0.7/libexec/bin/python -m pip install --upgrade pip\u001b[0m\n",
      "Collecting opencv-python\n",
      "  Obtaining dependency information for opencv-python from https://files.pythonhosted.org/packages/05/58/7ee92b21cb98689cbe28c69e3cf8ee51f261bfb6bc904ae578736d22d2e7/opencv_python-4.8.1.78-cp37-abi3-macosx_10_16_x86_64.whl.metadata\n",
      "  Using cached opencv_python-4.8.1.78-cp37-abi3-macosx_10_16_x86_64.whl.metadata (19 kB)\n",
      "Requirement already satisfied: numpy>=1.21.2 in /usr/local/Cellar/jupyterlab/4.0.7/libexec/lib/python3.11/site-packages (from opencv-python) (1.26.1)\n",
      "Using cached opencv_python-4.8.1.78-cp37-abi3-macosx_10_16_x86_64.whl (54.7 MB)\n",
      "Installing collected packages: opencv-python\n",
      "Successfully installed opencv-python-4.8.1.78\n",
      "\n",
      "\u001b[1m[\u001b[0m\u001b[34;49mnotice\u001b[0m\u001b[1;39;49m]\u001b[0m\u001b[39;49m A new release of pip is available: \u001b[0m\u001b[31;49m23.2.1\u001b[0m\u001b[39;49m -> \u001b[0m\u001b[32;49m23.3.1\u001b[0m\n",
      "\u001b[1m[\u001b[0m\u001b[34;49mnotice\u001b[0m\u001b[1;39;49m]\u001b[0m\u001b[39;49m To update, run: \u001b[0m\u001b[32;49m/usr/local/Cellar/jupyterlab/4.0.7/libexec/bin/python -m pip install --upgrade pip\u001b[0m\n",
      "Requirement already satisfied: scipy in /usr/local/Cellar/jupyterlab/4.0.7/libexec/lib/python3.11/site-packages (1.11.3)\n",
      "Requirement already satisfied: numpy<1.28.0,>=1.21.6 in /usr/local/Cellar/jupyterlab/4.0.7/libexec/lib/python3.11/site-packages (from scipy) (1.26.1)\n",
      "\n",
      "\u001b[1m[\u001b[0m\u001b[34;49mnotice\u001b[0m\u001b[1;39;49m]\u001b[0m\u001b[39;49m A new release of pip is available: \u001b[0m\u001b[31;49m23.2.1\u001b[0m\u001b[39;49m -> \u001b[0m\u001b[32;49m23.3.1\u001b[0m\n",
      "\u001b[1m[\u001b[0m\u001b[34;49mnotice\u001b[0m\u001b[1;39;49m]\u001b[0m\u001b[39;49m To update, run: \u001b[0m\u001b[32;49m/usr/local/Cellar/jupyterlab/4.0.7/libexec/bin/python -m pip install --upgrade pip\u001b[0m\n"
     ]
    }
   ],
   "source": [
    "import sys\n",
    "!{sys.executable} -m pip install numpy\n",
    "!{sys.executable} -m pip install -U scikit-learn\n",
    "!{sys.executable} -m pip install -U matplotlib\n",
    "!{sys.executable} -m pip install -U opencv-python\n",
    "!{sys.executable} -m pip install scipy\n"
   ]
  },
  {
   "cell_type": "code",
   "execution_count": 4,
   "id": "eabd7694-6c51-4d4c-afcc-100a4b212ebe",
   "metadata": {},
   "outputs": [],
   "source": [
    "import matplotlib.pyplot as plt\n",
    "import numpy as np\n",
    "from sklearn.model_selection import train_test_split\n",
    "\n",
    "from activations import ReLU, Softmax, Sigmoid\n",
    "from dataset import heart_classification\n",
    "from evaluation import BCE\n",
    "from initializers import He, Xavier\n",
    "from model import NeuralNetwork\n",
    "from train import Train\n",
    "\n"
   ]
  },
  {
   "cell_type": "markdown",
   "id": "4d17f8bb-8037-4302-b6e1-9bd869efdfbc",
   "metadata": {},
   "source": [
    "### Set initial parameters"
   ]
  },
  {
   "cell_type": "markdown",
   "id": "d3c3370c-d63f-4766-af16-bbf458b3cb0f",
   "metadata": {},
   "source": [
    "Dataset: heart disease"
   ]
  },
  {
   "cell_type": "code",
   "execution_count": 20,
   "id": "83ad5336-36cf-408f-990a-2eace9e1c169",
   "metadata": {},
   "outputs": [],
   "source": [
    "inputs, outputs = heart_classification()\n",
    "inputs_train, inputs_test, outputs_train, outputs_test = train_test_split(inputs, outputs, test_size=0.16)"
   ]
  },
  {
   "cell_type": "markdown",
   "id": "4d42acfa-228a-4df8-a504-9da43f4e33a7",
   "metadata": {},
   "source": [
    "Loss function - BCE - for binary classification"
   ]
  },
  {
   "cell_type": "markdown",
   "id": "5fb9a390-d36f-4102-ab11-4d0449ae9d39",
   "metadata": {},
   "source": [
    "Batch size = Input data size ->"
   ]
  },
  {
   "cell_type": "code",
   "execution_count": 7,
   "id": "92b9718e-5827-4d23-b1d2-b07836d9e890",
   "metadata": {},
   "outputs": [],
   "source": [
    "learning_rate = 0.0002\n",
    "batch_size = 10\n",
    "epochs = 5000\n",
    "loss_function = BCE()"
   ]
  },
  {
   "cell_type": "markdown",
   "id": "1f4ef124-bac2-4409-b7ba-1f0065fe6b64",
   "metadata": {},
   "source": [
    "Reshape output vector into numpy matrix"
   ]
  },
  {
   "cell_type": "code",
   "execution_count": 9,
   "id": "18208cda-b4b2-48a6-aa27-7058be6949c9",
   "metadata": {},
   "outputs": [],
   "source": [
    "if len(outputs_train.shape) == 1:\n",
    "    outputs_train = np.reshape(outputs_train, (outputs_train.shape[0], 1))\n",
    "input_dim = inputs_train.shape[1]\n",
    "hidden_dim = inputs_train.shape[0]\n",
    "output_dim = outputs_train.shape[1]\n",
    "num_of_hidden_layers = 1"
   ]
  },
  {
   "cell_type": "markdown",
   "id": "0a17628b-5216-4e56-a759-e032308ff45f",
   "metadata": {},
   "source": [
    "ReLU - for hidden layers\n"
   ]
  },
  {
   "cell_type": "markdown",
   "id": "02edf407-411c-44a8-9c9a-ac650f09d032",
   "metadata": {},
   "source": [
    "Sigmoid - for output layers to calculate probabilities for binary classification"
   ]
  },
  {
   "cell_type": "code",
   "execution_count": null,
   "id": "61490f56-8258-4449-81e8-14457e1809fa",
   "metadata": {},
   "outputs": [],
   "source": [
    "activation = ReLU()\n",
    "activation_output = Sigmoid()"
   ]
  },
  {
   "cell_type": "markdown",
   "id": "bca99e57-3f73-480f-af51-d0b057637f85",
   "metadata": {},
   "source": [
    "He - for Relu activation"
   ]
  },
  {
   "cell_type": "markdown",
   "id": "d7f8509c-2d88-4ee3-b68d-757b27b4e5d8",
   "metadata": {},
   "source": [
    "Xavier - for Sigmoid activation"
   ]
  },
  {
   "cell_type": "code",
   "execution_count": 11,
   "id": "cc74ceaa-794a-44e1-95bd-f85b3329ed79",
   "metadata": {},
   "outputs": [],
   "source": [
    "initialization = He\n",
    "output_initialization = Xavier"
   ]
  },
  {
   "cell_type": "code",
   "execution_count": null,
   "id": "1a85d4c6-c04d-4ed1-bdf1-d9051f894f54",
   "metadata": {},
   "outputs": [],
   "source": [
    "Initialize network with specified parameters"
   ]
  },
  {
   "cell_type": "code",
   "execution_count": 12,
   "id": "5796b47c-fe8f-4907-908f-2c64e4b3d3c6",
   "metadata": {},
   "outputs": [],
   "source": [
    "network = NeuralNetwork(input_dim,\n",
    "                            hidden_dim,\n",
    "                            output_dim,\n",
    "                            num_of_hidden_layers,\n",
    "                            activation,\n",
    "                            activation_output,\n",
    "                            initialization,\n",
    "                            output_initialization)"
   ]
  },
  {
   "cell_type": "code",
   "execution_count": 13,
   "id": "5e55f570-6768-4b88-8975-9c602dd98330",
   "metadata": {},
   "outputs": [
    {
     "name": "stdout",
     "output_type": "stream",
     "text": [
      "0. Accuracy: 0.7 Loss: 0.9908371010199012\n",
      "0. Accuracy: 0.6 Loss: 3.92820916741817\n",
      "0. Accuracy: 0.5 Loss: 4.517105525787937\n",
      "0. Accuracy: 0.4 Loss: 5.526695134022164\n",
      "0. Accuracy: 1.0 Loss: 0.00026526505958419987\n",
      "0. Accuracy: 0.3 Loss: 10.490675107356525\n",
      "0. Accuracy: 0.2 Loss: 1.7182901236975936\n",
      "0. Accuracy: 0.8 Loss: 3.2236192101916687\n",
      "0. Accuracy: 0.6 Loss: 6.447238320383332\n",
      "0. Accuracy: 0.5 Loss: 8.059047875479163\n",
      "0. Accuracy: 0.6 Loss: 6.447272439916025\n",
      "0. Accuracy: 0.4 Loss: 9.670883407702231\n",
      "0. Accuracy: 0.9 Loss: 1.6118267135373272\n",
      "0. Accuracy: 0.4 Loss: 9.670931989107604\n",
      "0. Accuracy: 0.6 Loss: 6.447238320383332\n",
      "0. Accuracy: 0.6 Loss: 5.901776554950302\n",
      "0. Accuracy: 0.6 Loss: 6.226030754768334\n",
      "0. Accuracy: 0.8 Loss: 1.465198549628981\n",
      "0. Accuracy: 0.5 Loss: 1.5878931953545388\n",
      "0. Accuracy: 0.7 Loss: 2.0664153340738727\n",
      "0. Accuracy: 0.4 Loss: 2.4299217350698035\n",
      "0. Accuracy: 0.6 Loss: 5.7164181662231055\n",
      "0. Accuracy: 0.5 Loss: 1.9174109707543903\n",
      "0. Accuracy: 0.8 Loss: 1.1491691355807319\n",
      "500. Accuracy: 0.8 Loss: 0.49061391526136927\n",
      "500. Accuracy: 0.5 Loss: 1.0444202363033068\n",
      "500. Accuracy: 0.8 Loss: 0.5648358329656008\n",
      "500. Accuracy: 0.8 Loss: 0.47761309403533303\n",
      "500. Accuracy: 0.9 Loss: 0.2407881037103659\n",
      "500. Accuracy: 0.5 Loss: 1.2762543782605822\n",
      "500. Accuracy: 0.4 Loss: 0.9222665884333274\n",
      "500. Accuracy: 0.8 Loss: 0.5167417768437396\n",
      "500. Accuracy: 0.6 Loss: 0.9817812602421352\n",
      "500. Accuracy: 0.7 Loss: 0.556051500137401\n",
      "500. Accuracy: 1.0 Loss: 0.32629423463913626\n",
      "500. Accuracy: 0.6 Loss: 0.5726920525319749\n",
      "500. Accuracy: 0.7 Loss: 0.5302130433175868\n",
      "500. Accuracy: 0.4 Loss: 0.9803087740225903\n",
      "500. Accuracy: 0.7 Loss: 0.49229704734456103\n",
      "500. Accuracy: 1.0 Loss: 0.2960733715165206\n",
      "500. Accuracy: 0.8 Loss: 0.40054849908562734\n",
      "500. Accuracy: 0.5 Loss: 0.6757324285588109\n",
      "500. Accuracy: 0.6 Loss: 1.3023705506904837\n",
      "500. Accuracy: 0.9 Loss: 0.36724643031416343\n",
      "500. Accuracy: 0.8 Loss: 0.464702939973025\n",
      "500. Accuracy: 0.9 Loss: 0.37848044610197895\n",
      "500. Accuracy: 0.9 Loss: 0.2848662587067973\n",
      "500. Accuracy: 0.8 Loss: 0.5056781943840466\n",
      "1000. Accuracy: 0.8 Loss: 0.34191817976972444\n",
      "1000. Accuracy: 0.5 Loss: 0.9267710851696865\n",
      "1000. Accuracy: 0.9 Loss: 0.37569893925819686\n",
      "1000. Accuracy: 0.8 Loss: 0.46494989195995284\n",
      "1000. Accuracy: 0.8 Loss: 0.34700171067312435\n",
      "1000. Accuracy: 0.5 Loss: 1.106727360471273\n",
      "1000. Accuracy: 0.9 Loss: 0.45217774040044445\n",
      "1000. Accuracy: 0.9 Loss: 0.4585026425438884\n",
      "1000. Accuracy: 0.6 Loss: 0.7514211134161878\n",
      "1000. Accuracy: 0.8 Loss: 0.5337028700399894\n",
      "1000. Accuracy: 1.0 Loss: 0.2728162127465928\n",
      "1000. Accuracy: 0.8 Loss: 0.4689108712060065\n",
      "1000. Accuracy: 0.9 Loss: 0.30834145926450807\n",
      "1000. Accuracy: 0.5 Loss: 0.6621509491109282\n",
      "1000. Accuracy: 0.7 Loss: 0.47070841680919917\n",
      "1000. Accuracy: 1.0 Loss: 0.2438047711154842\n",
      "1000. Accuracy: 0.8 Loss: 0.3469295529027297\n",
      "1000. Accuracy: 0.6 Loss: 0.5722053681368513\n",
      "1000. Accuracy: 0.6 Loss: 0.9327784796103537\n",
      "1000. Accuracy: 0.8 Loss: 0.30384170464955385\n",
      "1000. Accuracy: 0.8 Loss: 0.3982486053100261\n",
      "1000. Accuracy: 0.9 Loss: 0.30165534145283096\n",
      "1000. Accuracy: 0.9 Loss: 0.24678806839712442\n",
      "1000. Accuracy: 1.0 Loss: 0.2847294078434915\n",
      "1500. Accuracy: 0.8 Loss: 0.317863232317369\n",
      "1500. Accuracy: 0.5 Loss: 0.8483860120081935\n",
      "1500. Accuracy: 0.9 Loss: 0.2835684525056434\n",
      "1500. Accuracy: 0.9 Loss: 0.4447230982453167\n",
      "1500. Accuracy: 0.7 Loss: 0.41008258966893035\n",
      "1500. Accuracy: 0.5 Loss: 1.0104044881474021\n",
      "1500. Accuracy: 0.9 Loss: 0.3302795443611803\n",
      "1500. Accuracy: 0.9 Loss: 0.4599507410419979\n",
      "1500. Accuracy: 0.6 Loss: 0.6792567374219243\n",
      "1500. Accuracy: 0.7 Loss: 0.5353746849026016\n",
      "1500. Accuracy: 1.0 Loss: 0.2470442737308911\n",
      "1500. Accuracy: 1.0 Loss: 0.422699135283643\n",
      "1500. Accuracy: 0.9 Loss: 0.2574927174907026\n",
      "1500. Accuracy: 0.5 Loss: 0.615472530977671\n",
      "1500. Accuracy: 0.8 Loss: 0.45513403472998437\n",
      "1500. Accuracy: 1.0 Loss: 0.21382035839210162\n",
      "1500. Accuracy: 0.8 Loss: 0.3391682485989713\n",
      "1500. Accuracy: 0.8 Loss: 0.5448675270255566\n",
      "1500. Accuracy: 0.6 Loss: 0.695982772610755\n",
      "1500. Accuracy: 0.8 Loss: 0.2776942171401861\n",
      "1500. Accuracy: 0.8 Loss: 0.3751020861800188\n",
      "1500. Accuracy: 0.9 Loss: 0.2700035128544943\n",
      "1500. Accuracy: 1.0 Loss: 0.2241930131359393\n",
      "1500. Accuracy: 1.0 Loss: 0.22642041381419964\n",
      "2000. Accuracy: 0.8 Loss: 0.3083119130123063\n",
      "2000. Accuracy: 0.5 Loss: 0.7893521793197965\n",
      "2000. Accuracy: 0.9 Loss: 0.2702313795375023\n",
      "2000. Accuracy: 0.9 Loss: 0.3959862887135049\n",
      "2000. Accuracy: 0.8 Loss: 0.4256940137615482\n",
      "2000. Accuracy: 0.5 Loss: 0.901065349753772\n",
      "2000. Accuracy: 0.9 Loss: 0.26545060377211693\n",
      "2000. Accuracy: 0.9 Loss: 0.4105916509944582\n",
      "2000. Accuracy: 0.6 Loss: 0.6049769288076144\n",
      "2000. Accuracy: 0.7 Loss: 0.5898060643561094\n",
      "2000. Accuracy: 1.0 Loss: 0.25682802662564796\n",
      "2000. Accuracy: 1.0 Loss: 0.39079769112128027\n",
      "2000. Accuracy: 0.9 Loss: 0.2638946033405768\n",
      "2000. Accuracy: 0.5 Loss: 0.587702446799453\n",
      "2000. Accuracy: 0.8 Loss: 0.42759824699691\n",
      "2000. Accuracy: 1.0 Loss: 0.22139804023252657\n",
      "2000. Accuracy: 0.9 Loss: 0.32532802928673166\n",
      "2000. Accuracy: 0.8 Loss: 0.48537129426260617\n",
      "2000. Accuracy: 0.6 Loss: 0.5852330632134077\n",
      "2000. Accuracy: 0.9 Loss: 0.25191002289854936\n",
      "2000. Accuracy: 0.9 Loss: 0.35731594976220615\n",
      "2000. Accuracy: 0.9 Loss: 0.24909533880329748\n",
      "2000. Accuracy: 1.0 Loss: 0.21002736325936158\n",
      "2000. Accuracy: 1.0 Loss: 0.2176213251722523\n",
      "2500. Accuracy: 0.8 Loss: 0.3084208367025537\n",
      "2500. Accuracy: 0.5 Loss: 0.8133153555564194\n",
      "2500. Accuracy: 0.9 Loss: 0.26059399864779875\n",
      "2500. Accuracy: 0.9 Loss: 0.4093321083944523\n",
      "2500. Accuracy: 0.8 Loss: 0.3876650042931615\n",
      "2500. Accuracy: 0.5 Loss: 0.814417404527686\n",
      "2500. Accuracy: 0.9 Loss: 0.2773868008529957\n",
      "2500. Accuracy: 0.9 Loss: 0.38859738806607613\n",
      "2500. Accuracy: 0.6 Loss: 0.5488616334836509\n",
      "2500. Accuracy: 0.7 Loss: 0.5666023495858316\n",
      "2500. Accuracy: 1.0 Loss: 0.22516391498350394\n",
      "2500. Accuracy: 1.0 Loss: 0.3719150954620486\n",
      "2500. Accuracy: 0.9 Loss: 0.2533292002300213\n",
      "2500. Accuracy: 0.6 Loss: 0.5689941497527232\n",
      "2500. Accuracy: 0.8 Loss: 0.42423452006763523\n",
      "2500. Accuracy: 0.9 Loss: 0.25737152478185876\n",
      "2500. Accuracy: 0.8 Loss: 0.3008695440055902\n",
      "2500. Accuracy: 0.9 Loss: 0.4591496423431972\n",
      "2500. Accuracy: 0.8 Loss: 0.49850602865212723\n",
      "2500. Accuracy: 0.9 Loss: 0.2507420603470181\n",
      "2500. Accuracy: 0.9 Loss: 0.3283032230204741\n",
      "2500. Accuracy: 0.9 Loss: 0.2415153869990053\n",
      "2500. Accuracy: 1.0 Loss: 0.19176816617504455\n",
      "2500. Accuracy: 1.0 Loss: 0.19290844044284752\n",
      "3000. Accuracy: 0.8 Loss: 0.30906600478376534\n",
      "3000. Accuracy: 0.6 Loss: 0.7802784976573965\n",
      "3000. Accuracy: 0.9 Loss: 0.23671782691324897\n",
      "3000. Accuracy: 0.8 Loss: 0.41326637050944176\n",
      "3000. Accuracy: 0.8 Loss: 0.3311185450034993\n",
      "3000. Accuracy: 0.6 Loss: 0.8333663427529906\n",
      "3000. Accuracy: 0.9 Loss: 0.27322993070222973\n",
      "3000. Accuracy: 0.9 Loss: 0.3822576134853365\n",
      "3000. Accuracy: 0.6 Loss: 0.5081106931179753\n",
      "3000. Accuracy: 0.7 Loss: 0.5763830198221688\n",
      "3000. Accuracy: 1.0 Loss: 0.2170112863419178\n",
      "3000. Accuracy: 1.0 Loss: 0.33987204470371973\n",
      "3000. Accuracy: 0.9 Loss: 0.2380489038806463\n",
      "3000. Accuracy: 0.6 Loss: 0.5395049468961026\n",
      "3000. Accuracy: 0.8 Loss: 0.4284646201325818\n",
      "3000. Accuracy: 1.0 Loss: 0.2292970897318516\n",
      "3000. Accuracy: 0.9 Loss: 0.2878419203178474\n",
      "3000. Accuracy: 0.9 Loss: 0.44920108522020474\n",
      "3000. Accuracy: 0.8 Loss: 0.440661100149731\n",
      "3000. Accuracy: 0.9 Loss: 0.23720948196243352\n",
      "3000. Accuracy: 0.9 Loss: 0.300272835016516\n",
      "3000. Accuracy: 0.9 Loss: 0.2160802120560176\n",
      "3000. Accuracy: 1.0 Loss: 0.17959570303453895\n",
      "3000. Accuracy: 1.0 Loss: 0.17131502235958876\n",
      "3500. Accuracy: 0.8 Loss: 0.29493459091513424\n",
      "3500. Accuracy: 0.6 Loss: 0.7096890539732893\n",
      "3500. Accuracy: 0.9 Loss: 0.21334867760935014\n",
      "3500. Accuracy: 0.9 Loss: 0.37316567506047094\n",
      "3500. Accuracy: 0.8 Loss: 0.3559918861198955\n",
      "3500. Accuracy: 0.6 Loss: 0.8675866146596753\n",
      "3500. Accuracy: 1.0 Loss: 0.2551106448833341\n",
      "3500. Accuracy: 0.9 Loss: 0.3718664263660139\n",
      "3500. Accuracy: 0.7 Loss: 0.44153011249868596\n",
      "3500. Accuracy: 0.7 Loss: 0.6109606583674416\n",
      "3500. Accuracy: 1.0 Loss: 0.20668497376056222\n",
      "3500. Accuracy: 1.0 Loss: 0.32330045953803077\n",
      "3500. Accuracy: 0.9 Loss: 0.23404243210537956\n",
      "3500. Accuracy: 0.7 Loss: 0.5030587234891181\n",
      "3500. Accuracy: 0.9 Loss: 0.39088436425829864\n",
      "3500. Accuracy: 1.0 Loss: 0.20268633672089634\n",
      "3500. Accuracy: 1.0 Loss: 0.27595582465334506\n",
      "3500. Accuracy: 0.9 Loss: 0.4155403638536502\n",
      "3500. Accuracy: 0.8 Loss: 0.4300311830651563\n",
      "3500. Accuracy: 1.0 Loss: 0.2252508186108352\n",
      "3500. Accuracy: 0.9 Loss: 0.3128766753114614\n",
      "3500. Accuracy: 0.9 Loss: 0.20894601612108987\n",
      "3500. Accuracy: 1.0 Loss: 0.15999219286575783\n",
      "3500. Accuracy: 1.0 Loss: 0.1501534555727087\n",
      "4000. Accuracy: 0.8 Loss: 0.28850363237411714\n",
      "4000. Accuracy: 0.7 Loss: 0.6844654465862805\n",
      "4000. Accuracy: 1.0 Loss: 0.19242773329064408\n",
      "4000. Accuracy: 0.8 Loss: 0.3827698825422211\n",
      "4000. Accuracy: 0.8 Loss: 0.34769028911662836\n",
      "4000. Accuracy: 0.6 Loss: 0.8410734548646446\n",
      "4000. Accuracy: 1.0 Loss: 0.26309871038991905\n",
      "4000. Accuracy: 0.9 Loss: 0.3522521842305999\n",
      "4000. Accuracy: 0.7 Loss: 0.4171493133855283\n",
      "4000. Accuracy: 0.7 Loss: 0.6099300277170872\n",
      "4000. Accuracy: 1.0 Loss: 0.2006863647217517\n",
      "4000. Accuracy: 1.0 Loss: 0.30686355421071954\n",
      "4000. Accuracy: 0.9 Loss: 0.24498389324227232\n",
      "4000. Accuracy: 0.7 Loss: 0.5097948694117901\n",
      "4000. Accuracy: 0.9 Loss: 0.3812806798920637\n",
      "4000. Accuracy: 1.0 Loss: 0.1925587469563969\n",
      "4000. Accuracy: 1.0 Loss: 0.25544491734399416\n",
      "4000. Accuracy: 0.9 Loss: 0.4206450332368094\n",
      "4000. Accuracy: 0.8 Loss: 0.4005049967992166\n",
      "4000. Accuracy: 1.0 Loss: 0.2208381801501798\n",
      "4000. Accuracy: 0.9 Loss: 0.2923202896091256\n",
      "4000. Accuracy: 0.9 Loss: 0.19827225521759345\n",
      "4000. Accuracy: 1.0 Loss: 0.1435600450247936\n",
      "4000. Accuracy: 1.0 Loss: 0.13984760181110328\n",
      "4500. Accuracy: 0.8 Loss: 0.3042848037252363\n",
      "4500. Accuracy: 0.8 Loss: 0.6550599335253172\n",
      "4500. Accuracy: 0.9 Loss: 0.19017559039125076\n",
      "4500. Accuracy: 0.9 Loss: 0.3731017781021702\n",
      "4500. Accuracy: 0.8 Loss: 0.34973798373064136\n",
      "4500. Accuracy: 0.6 Loss: 0.9488882727247914\n",
      "4500. Accuracy: 1.0 Loss: 0.2623237434835446\n",
      "4500. Accuracy: 0.9 Loss: 0.34962520906075445\n",
      "4500. Accuracy: 0.7 Loss: 0.3925251319152897\n",
      "4500. Accuracy: 0.7 Loss: 0.5863866494020622\n",
      "4500. Accuracy: 0.9 Loss: 0.2123482404462659\n",
      "4500. Accuracy: 1.0 Loss: 0.29964406698064605\n",
      "4500. Accuracy: 0.9 Loss: 0.2263595978772024\n",
      "4500. Accuracy: 0.7 Loss: 0.5246007573688573\n",
      "4500. Accuracy: 0.9 Loss: 0.38168698616301877\n",
      "4500. Accuracy: 1.0 Loss: 0.18636421689322816\n",
      "4500. Accuracy: 1.0 Loss: 0.23552895284239\n",
      "4500. Accuracy: 0.9 Loss: 0.39033546582971346\n",
      "4500. Accuracy: 0.8 Loss: 0.39044429622274507\n",
      "4500. Accuracy: 1.0 Loss: 0.2275021296346999\n",
      "4500. Accuracy: 0.9 Loss: 0.27904068233713825\n",
      "4500. Accuracy: 0.9 Loss: 0.1957640939506737\n",
      "4500. Accuracy: 1.0 Loss: 0.13103921551188105\n",
      "4500. Accuracy: 1.0 Loss: 0.14214173753062648\n"
     ]
    },
    {
     "data": {
      "image/png": "[encoded data removed]",
      "text/plain": [
       "<Figure size 640x480 with 1 Axes>"
      ]
     },
     "metadata": {},
     "output_type": "display_data"
    }
   ],
   "source": [
    "train = Train(network, learning_rate, batch_size, epochs, loss_function)\n",
    "cost, accuracies = train.train(inputs_train, outputs_train)"
   ]
  },
  {
   "cell_type": "code",
   "execution_count": 19,
   "id": "5ef17bea-8220-4f15-b643-9403c200b47b",
   "metadata": {},
   "outputs": [
    {
     "data": {
      "image/png": "[encoded data removed]",
      "text/plain": [
       "<Figure size 640x480 with 1 Axes>"
      ]
     },
     "metadata": {},
     "output_type": "display_data"
    }
   ],
   "source": [
    "plt.plot([a for a in range(len(cost))],cost, marker=\"o\", markersize=0.1, linestyle=\"\")\n",
    "plt.show()"
   ]
  },
  {
   "cell_type": "code",
   "execution_count": null,
   "id": "6fd01004-e63f-4cda-943e-31a23ff528f3",
   "metadata": {},
   "outputs": [],
   "source": []
  }
 ],
 "metadata": {
  "kernelspec": {
   "display_name": "Python 3 (ipykernel)",
   "language": "python",
   "name": "python3"
  },
  "language_info": {
   "codemirror_mode": {
    "name": "ipython",
    "version": 3
   },
   "file_extension": ".py",
   "mimetype": "text/x-python",
   "name": "python",
   "nbconvert_exporter": "python",
   "pygments_lexer": "ipython3",
   "version": "3.11.6"
  }
 },
 "nbformat": 4,
 "nbformat_minor": 5
}

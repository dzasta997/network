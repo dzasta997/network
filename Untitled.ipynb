{
 "cells": [
  {
   "cell_type": "code",
   "execution_count": 3,
   "id": "43330f14-139e-41db-ad8d-8c9f0a316c18",
   "metadata": {},
   "outputs": [
    {
     "name": "stdout",
     "output_type": "stream",
     "text": [
      "Requirement already satisfied: numpy in /usr/local/Cellar/jupyterlab/4.0.7/libexec/lib/python3.11/site-packages (1.26.1)\n",
      "\n",
      "\u001b[1m[\u001b[0m\u001b[34;49mnotice\u001b[0m\u001b[1;39;49m]\u001b[0m\u001b[39;49m A new release of pip is available: \u001b[0m\u001b[31;49m23.2.1\u001b[0m\u001b[39;49m -> \u001b[0m\u001b[32;49m23.3.1\u001b[0m\n",
      "\u001b[1m[\u001b[0m\u001b[34;49mnotice\u001b[0m\u001b[1;39;49m]\u001b[0m\u001b[39;49m To update, run: \u001b[0m\u001b[32;49m/usr/local/Cellar/jupyterlab/4.0.7/libexec/bin/python -m pip install --upgrade pip\u001b[0m\n",
      "Requirement already satisfied: scikit-learn in /usr/local/Cellar/jupyterlab/4.0.7/libexec/lib/python3.11/site-packages (1.3.2)\n",
      "Requirement already satisfied: numpy<2.0,>=1.17.3 in /usr/local/Cellar/jupyterlab/4.0.7/libexec/lib/python3.11/site-packages (from scikit-learn) (1.26.1)\n",
      "Requirement already satisfied: scipy>=1.5.0 in /usr/local/Cellar/jupyterlab/4.0.7/libexec/lib/python3.11/site-packages (from scikit-learn) (1.11.3)\n",
      "Requirement already satisfied: joblib>=1.1.1 in /usr/local/Cellar/jupyterlab/4.0.7/libexec/lib/python3.11/site-packages (from scikit-learn) (1.3.2)\n",
      "Requirement already satisfied: threadpoolctl>=2.0.0 in /usr/local/Cellar/jupyterlab/4.0.7/libexec/lib/python3.11/site-packages (from scikit-learn) (3.2.0)\n",
      "\n",
      "\u001b[1m[\u001b[0m\u001b[34;49mnotice\u001b[0m\u001b[1;39;49m]\u001b[0m\u001b[39;49m A new release of pip is available: \u001b[0m\u001b[31;49m23.2.1\u001b[0m\u001b[39;49m -> \u001b[0m\u001b[32;49m23.3.1\u001b[0m\n",
      "\u001b[1m[\u001b[0m\u001b[34;49mnotice\u001b[0m\u001b[1;39;49m]\u001b[0m\u001b[39;49m To update, run: \u001b[0m\u001b[32;49m/usr/local/Cellar/jupyterlab/4.0.7/libexec/bin/python -m pip install --upgrade pip\u001b[0m\n",
      "Requirement already satisfied: matplotlib in /usr/local/Cellar/jupyterlab/4.0.7/libexec/lib/python3.11/site-packages (3.8.1)\n",
      "Requirement already satisfied: contourpy>=1.0.1 in /usr/local/Cellar/jupyterlab/4.0.7/libexec/lib/python3.11/site-packages (from matplotlib) (1.2.0)\n",
      "Requirement already satisfied: cycler>=0.10 in /usr/local/Cellar/jupyterlab/4.0.7/libexec/lib/python3.11/site-packages (from matplotlib) (0.12.1)\n",
      "Requirement already satisfied: fonttools>=4.22.0 in /usr/local/Cellar/jupyterlab/4.0.7/libexec/lib/python3.11/site-packages (from matplotlib) (4.44.0)\n",
      "Requirement already satisfied: kiwisolver>=1.3.1 in /usr/local/Cellar/jupyterlab/4.0.7/libexec/lib/python3.11/site-packages (from matplotlib) (1.4.5)\n",
      "Requirement already satisfied: numpy<2,>=1.21 in /usr/local/Cellar/jupyterlab/4.0.7/libexec/lib/python3.11/site-packages (from matplotlib) (1.26.1)\n",
      "Requirement already satisfied: packaging>=20.0 in /usr/local/opt/python-packaging/lib/python3.11/site-packages (from matplotlib) (23.2)\n",
      "Requirement already satisfied: pillow>=8 in /usr/local/Cellar/jupyterlab/4.0.7/libexec/lib/python3.11/site-packages (from matplotlib) (10.1.0)\n",
      "Requirement already satisfied: pyparsing>=2.3.1 in /usr/local/Cellar/jupyterlab/4.0.7/libexec/lib/python3.11/site-packages (from matplotlib) (3.1.1)\n",
      "Requirement already satisfied: python-dateutil>=2.7 in /usr/local/Cellar/jupyterlab/4.0.7/libexec/lib/python3.11/site-packages (from matplotlib) (2.8.2)\n",
      "Requirement already satisfied: six>=1.5 in /usr/local/opt/six/lib/python3.11/site-packages (from python-dateutil>=2.7->matplotlib) (1.16.0)\n",
      "\n",
      "\u001b[1m[\u001b[0m\u001b[34;49mnotice\u001b[0m\u001b[1;39;49m]\u001b[0m\u001b[39;49m A new release of pip is available: \u001b[0m\u001b[31;49m23.2.1\u001b[0m\u001b[39;49m -> \u001b[0m\u001b[32;49m23.3.1\u001b[0m\n",
      "\u001b[1m[\u001b[0m\u001b[34;49mnotice\u001b[0m\u001b[1;39;49m]\u001b[0m\u001b[39;49m To update, run: \u001b[0m\u001b[32;49m/usr/local/Cellar/jupyterlab/4.0.7/libexec/bin/python -m pip install --upgrade pip\u001b[0m\n",
      "Collecting opencv-python\n",
      "  Obtaining dependency information for opencv-python from https://files.pythonhosted.org/packages/05/58/7ee92b21cb98689cbe28c69e3cf8ee51f261bfb6bc904ae578736d22d2e7/opencv_python-4.8.1.78-cp37-abi3-macosx_10_16_x86_64.whl.metadata\n",
      "  Using cached opencv_python-4.8.1.78-cp37-abi3-macosx_10_16_x86_64.whl.metadata (19 kB)\n",
      "Requirement already satisfied: numpy>=1.21.2 in /usr/local/Cellar/jupyterlab/4.0.7/libexec/lib/python3.11/site-packages (from opencv-python) (1.26.1)\n",
      "Using cached opencv_python-4.8.1.78-cp37-abi3-macosx_10_16_x86_64.whl (54.7 MB)\n",
      "Installing collected packages: opencv-python\n",
      "Successfully installed opencv-python-4.8.1.78\n",
      "\n",
      "\u001b[1m[\u001b[0m\u001b[34;49mnotice\u001b[0m\u001b[1;39;49m]\u001b[0m\u001b[39;49m A new release of pip is available: \u001b[0m\u001b[31;49m23.2.1\u001b[0m\u001b[39;49m -> \u001b[0m\u001b[32;49m23.3.1\u001b[0m\n",
      "\u001b[1m[\u001b[0m\u001b[34;49mnotice\u001b[0m\u001b[1;39;49m]\u001b[0m\u001b[39;49m To update, run: \u001b[0m\u001b[32;49m/usr/local/Cellar/jupyterlab/4.0.7/libexec/bin/python -m pip install --upgrade pip\u001b[0m\n",
      "Requirement already satisfied: scipy in /usr/local/Cellar/jupyterlab/4.0.7/libexec/lib/python3.11/site-packages (1.11.3)\n",
      "Requirement already satisfied: numpy<1.28.0,>=1.21.6 in /usr/local/Cellar/jupyterlab/4.0.7/libexec/lib/python3.11/site-packages (from scipy) (1.26.1)\n",
      "\n",
      "\u001b[1m[\u001b[0m\u001b[34;49mnotice\u001b[0m\u001b[1;39;49m]\u001b[0m\u001b[39;49m A new release of pip is available: \u001b[0m\u001b[31;49m23.2.1\u001b[0m\u001b[39;49m -> \u001b[0m\u001b[32;49m23.3.1\u001b[0m\n",
      "\u001b[1m[\u001b[0m\u001b[34;49mnotice\u001b[0m\u001b[1;39;49m]\u001b[0m\u001b[39;49m To update, run: \u001b[0m\u001b[32;49m/usr/local/Cellar/jupyterlab/4.0.7/libexec/bin/python -m pip install --upgrade pip\u001b[0m\n"
     ]
    }
   ],
   "source": [
    "import sys\n",
    "!{sys.executable} -m pip install numpy\n",
    "!{sys.executable} -m pip install -U scikit-learn\n",
    "!{sys.executable} -m pip install -U matplotlib\n",
    "!{sys.executable} -m pip install -U opencv-python\n",
    "!{sys.executable} -m pip install scipy\n"
   ]
  },
  {
   "cell_type": "code",
   "execution_count": 4,
   "id": "eabd7694-6c51-4d4c-afcc-100a4b212ebe",
   "metadata": {},
   "outputs": [],
   "source": [
    "import matplotlib.pyplot as plt\n",
    "import numpy as np\n",
    "from sklearn.model_selection import train_test_split\n",
    "\n",
    "from activations import ReLU, Softmax, Sigmoid\n",
    "from dataset import heart_classification\n",
    "from evaluation import BCE\n",
    "from initializers import He, Xavier\n",
    "from model import NeuralNetwork\n",
    "from train import Train\n",
    "\n"
   ]
  },
  {
   "cell_type": "markdown",
   "id": "4d17f8bb-8037-4302-b6e1-9bd869efdfbc",
   "metadata": {},
   "source": [
    "### Set initial parameters"
   ]
  },
  {
   "cell_type": "markdown",
   "id": "d3c3370c-d63f-4766-af16-bbf458b3cb0f",
   "metadata": {},
   "source": [
    "Dataset: heart disease"
   ]
  },
  {
   "cell_type": "code",
   "execution_count": 20,
   "id": "83ad5336-36cf-408f-990a-2eace9e1c169",
   "metadata": {},
   "outputs": [],
   "source": [
    "inputs, outputs = heart_classification()\n",
    "inputs_train, inputs_test, outputs_train, outputs_test = train_test_split(inputs, outputs, test_size=0.16)"
   ]
  },
  {
   "cell_type": "markdown",
   "id": "4d42acfa-228a-4df8-a504-9da43f4e33a7",
   "metadata": {},
   "source": [
    "Loss function - BCE - for binary classification"
   ]
  },
  {
   "cell_type": "markdown",
   "id": "5fb9a390-d36f-4102-ab11-4d0449ae9d39",
   "metadata": {},
   "source": [
    "Batch size = Input data size -> Use gradient descent for first iteration"
   ]
  },
  {
   "cell_type": "code",
   "execution_count": 30,
   "id": "92b9718e-5827-4d23-b1d2-b07836d9e890",
   "metadata": {},
   "outputs": [],
   "source": [
    "learning_rate = 0.0002\n",
    "batch_size = inputs_train.shape[0]\n",
    "epochs = 50000\n",
    "loss_function = BCE()"
   ]
  },
  {
   "cell_type": "markdown",
   "id": "1f4ef124-bac2-4409-b7ba-1f0065fe6b64",
   "metadata": {},
   "source": [
    "Reshape output vector into numpy matrix"
   ]
  },
  {
   "cell_type": "code",
   "execution_count": 31,
   "id": "18208cda-b4b2-48a6-aa27-7058be6949c9",
   "metadata": {},
   "outputs": [],
   "source": [
    "if len(outputs_train.shape) == 1:\n",
    "    outputs_train = np.reshape(outputs_train, (outputs_train.shape[0], 1))\n",
    "input_dim = inputs_train.shape[1]\n",
    "hidden_dim = inputs_train.shape[0]\n",
    "output_dim = outputs_train.shape[1]\n",
    "num_of_hidden_layers = 1"
   ]
  },
  {
   "cell_type": "markdown",
   "id": "0a17628b-5216-4e56-a759-e032308ff45f",
   "metadata": {},
   "source": [
    "ReLU - for hidden layers\n"
   ]
  },
  {
   "cell_type": "markdown",
   "id": "02edf407-411c-44a8-9c9a-ac650f09d032",
   "metadata": {},
   "source": [
    "Sigmoid - for output layers to calculate probabilities for binary classification"
   ]
  },
  {
   "cell_type": "code",
   "execution_count": 32,
   "id": "61490f56-8258-4449-81e8-14457e1809fa",
   "metadata": {},
   "outputs": [],
   "source": [
    "activation = ReLU()\n",
    "activation_output = Sigmoid()"
   ]
  },
  {
   "cell_type": "markdown",
   "id": "bca99e57-3f73-480f-af51-d0b057637f85",
   "metadata": {},
   "source": [
    "He - for Relu activation"
   ]
  },
  {
   "cell_type": "markdown",
   "id": "d7f8509c-2d88-4ee3-b68d-757b27b4e5d8",
   "metadata": {},
   "source": [
    "Xavier - for Sigmoid activation"
   ]
  },
  {
   "cell_type": "code",
   "execution_count": 33,
   "id": "cc74ceaa-794a-44e1-95bd-f85b3329ed79",
   "metadata": {},
   "outputs": [],
   "source": [
    "initialization = He\n",
    "output_initialization = Xavier"
   ]
  },
  {
   "cell_type": "markdown",
   "id": "06a33a7b-efe7-4697-a3e8-16a425146697",
   "metadata": {},
   "source": [
    "Initialize network with specified parameters"
   ]
  },
  {
   "cell_type": "code",
   "execution_count": 34,
   "id": "5796b47c-fe8f-4907-908f-2c64e4b3d3c6",
   "metadata": {},
   "outputs": [],
   "source": [
    "network = NeuralNetwork(input_dim,\n",
    "                            hidden_dim,\n",
    "                            output_dim,\n",
    "                            num_of_hidden_layers,\n",
    "                            activation,\n",
    "                            activation_output,\n",
    "                            initialization,\n",
    "                            output_initialization)"
   ]
  },
  {
   "cell_type": "code",
   "execution_count": 35,
   "id": "5e55f570-6768-4b88-8975-9c602dd98330",
   "metadata": {},
   "outputs": [
    {
     "name": "stdout",
     "output_type": "stream",
     "text": [
      "0. Accuracy: 0.5894308943089431 Loss: 2.36684885263284\n",
      "500. Accuracy: 0.3617886178861789 Loss: 10.286752138955672\n",
      "1000. Accuracy: 0.3617886178861789 Loss: 10.286752138955672\n",
      "1500. Accuracy: 0.3617886178861789 Loss: 10.286752138955672\n",
      "2000. Accuracy: 0.3617886178861789 Loss: 10.286752138955672\n",
      "2500. Accuracy: 0.3617886178861789 Loss: 10.286752138955672\n",
      "3000. Accuracy: 0.3617886178861789 Loss: 10.286752138955672\n",
      "3500. Accuracy: 0.3617886178861789 Loss: 10.286752138955672\n",
      "4000. Accuracy: 0.3617886178861789 Loss: 10.286752138955672\n",
      "4500. Accuracy: 0.3617886178861789 Loss: 10.286752138955672\n",
      "5000. Accuracy: 0.3617886178861789 Loss: 10.286752138955672\n",
      "5500. Accuracy: 0.3617886178861789 Loss: 10.286752138955672\n",
      "6000. Accuracy: 0.3617886178861789 Loss: 10.286752138955672\n",
      "6500. Accuracy: 0.3617886178861789 Loss: 10.286752138955672\n",
      "7000. Accuracy: 0.3617886178861789 Loss: 10.286752138955672\n",
      "7500. Accuracy: 0.3617886178861789 Loss: 10.286752138955672\n",
      "8000. Accuracy: 0.3617886178861789 Loss: 10.286752138955672\n",
      "8500. Accuracy: 0.3617886178861789 Loss: 10.286752138955672\n",
      "9000. Accuracy: 0.3617886178861789 Loss: 10.286752138955672\n",
      "9500. Accuracy: 0.3617886178861789 Loss: 10.286752138955672\n"
     ]
    },
    {
     "ename": "KeyboardInterrupt",
     "evalue": "",
     "output_type": "error",
     "traceback": [
      "\u001b[0;31m---------------------------------------------------------------------------\u001b[0m",
      "\u001b[0;31mKeyboardInterrupt\u001b[0m                         Traceback (most recent call last)",
      "Cell \u001b[0;32mIn[35], line 2\u001b[0m\n\u001b[1;32m      1\u001b[0m train \u001b[38;5;241m=\u001b[39m Train(network, learning_rate, batch_size, epochs, loss_function)\n\u001b[0;32m----> 2\u001b[0m cost, accuracies \u001b[38;5;241m=\u001b[39m \u001b[43mtrain\u001b[49m\u001b[38;5;241;43m.\u001b[39;49m\u001b[43mtrain\u001b[49m\u001b[43m(\u001b[49m\u001b[43minputs_train\u001b[49m\u001b[43m,\u001b[49m\u001b[43m \u001b[49m\u001b[43moutputs_train\u001b[49m\u001b[43m)\u001b[49m\n",
      "File \u001b[0;32m~/PycharmProjects/network/train.py:33\u001b[0m, in \u001b[0;36mTrain.train\u001b[0;34m(self, inputs, outputs)\u001b[0m\n\u001b[1;32m     30\u001b[0m accuracies\u001b[38;5;241m.\u001b[39mappend(accuracy)\n\u001b[1;32m     32\u001b[0m \u001b[38;5;28mself\u001b[39m\u001b[38;5;241m.\u001b[39mloss_function\u001b[38;5;241m.\u001b[39mbackward(predictions, output_batch)\n\u001b[0;32m---> 33\u001b[0m \u001b[38;5;28;43mself\u001b[39;49m\u001b[38;5;241;43m.\u001b[39;49m\u001b[43mnetwork\u001b[49m\u001b[38;5;241;43m.\u001b[39;49m\u001b[43mbackward\u001b[49m\u001b[43m(\u001b[49m\u001b[38;5;28;43mself\u001b[39;49m\u001b[38;5;241;43m.\u001b[39;49m\u001b[43mloss_function\u001b[49m\u001b[38;5;241;43m.\u001b[39;49m\u001b[43md_input\u001b[49m\u001b[43m)\u001b[49m\n\u001b[1;32m     34\u001b[0m \u001b[38;5;28mself\u001b[39m\u001b[38;5;241m.\u001b[39moptimise()\n\u001b[1;32m     36\u001b[0m \u001b[38;5;28;01mif\u001b[39;00m epoch \u001b[38;5;241m%\u001b[39m \u001b[38;5;241m500\u001b[39m \u001b[38;5;241m==\u001b[39m \u001b[38;5;241m0\u001b[39m:\n",
      "File \u001b[0;32m~/PycharmProjects/network/model.py:89\u001b[0m, in \u001b[0;36mNeuralNetwork.backward\u001b[0;34m(self, d_loss)\u001b[0m\n\u001b[1;32m     87\u001b[0m \u001b[38;5;28;01mfor\u001b[39;00m layer, activation \u001b[38;5;129;01min\u001b[39;00m \u001b[38;5;28mzip\u001b[39m(\u001b[38;5;28mreversed\u001b[39m(\u001b[38;5;28mself\u001b[39m\u001b[38;5;241m.\u001b[39mlayers), \u001b[38;5;28mreversed\u001b[39m(\u001b[38;5;28mself\u001b[39m\u001b[38;5;241m.\u001b[39mactivations)):\n\u001b[1;32m     88\u001b[0m     activation\u001b[38;5;241m.\u001b[39mbackward(grad)\n\u001b[0;32m---> 89\u001b[0m     \u001b[43mlayer\u001b[49m\u001b[38;5;241;43m.\u001b[39;49m\u001b[43mbackward\u001b[49m\u001b[43m(\u001b[49m\u001b[43mactivation\u001b[49m\u001b[38;5;241;43m.\u001b[39;49m\u001b[43md_input\u001b[49m\u001b[43m)\u001b[49m\n\u001b[1;32m     90\u001b[0m     grad \u001b[38;5;241m=\u001b[39m layer\u001b[38;5;241m.\u001b[39md_input\n",
      "File \u001b[0;32m~/PycharmProjects/network/model.py:36\u001b[0m, in \u001b[0;36mLayer.backward\u001b[0;34m(self, d_error)\u001b[0m\n\u001b[1;32m     33\u001b[0m     \u001b[38;5;28mself\u001b[39m\u001b[38;5;241m.\u001b[39moutput \u001b[38;5;241m=\u001b[39m np\u001b[38;5;241m.\u001b[39mdot(\u001b[38;5;28mself\u001b[39m\u001b[38;5;241m.\u001b[39minput, \u001b[38;5;28mself\u001b[39m\u001b[38;5;241m.\u001b[39mweights)\n\u001b[1;32m     34\u001b[0m     \u001b[38;5;28;01mreturn\u001b[39;00m \u001b[38;5;28mself\u001b[39m\u001b[38;5;241m.\u001b[39moutput\n\u001b[0;32m---> 36\u001b[0m \u001b[38;5;28;01mdef\u001b[39;00m \u001b[38;5;21mbackward\u001b[39m(\u001b[38;5;28mself\u001b[39m, d_error):\n\u001b[1;32m     37\u001b[0m     \u001b[38;5;28mself\u001b[39m\u001b[38;5;241m.\u001b[39md_weights \u001b[38;5;241m=\u001b[39m np\u001b[38;5;241m.\u001b[39mdot(\u001b[38;5;28mself\u001b[39m\u001b[38;5;241m.\u001b[39minput\u001b[38;5;241m.\u001b[39mT, d_error)\n\u001b[1;32m     38\u001b[0m     \u001b[38;5;28mself\u001b[39m\u001b[38;5;241m.\u001b[39md_bias \u001b[38;5;241m=\u001b[39m np\u001b[38;5;241m.\u001b[39msum(d_error, axis\u001b[38;5;241m=\u001b[39m\u001b[38;5;241m0\u001b[39m, keepdims\u001b[38;5;241m=\u001b[39m\u001b[38;5;28;01mTrue\u001b[39;00m)\n",
      "\u001b[0;31mKeyboardInterrupt\u001b[0m: "
     ]
    }
   ],
   "source": [
    "train = Train(network, learning_rate, batch_size, epochs, loss_function)\n",
    "cost, accuracies = train.train(inputs_train, outputs_train)"
   ]
  },
  {
   "cell_type": "code",
   "execution_count": null,
   "id": "5ef17bea-8220-4f15-b643-9403c200b47b",
   "metadata": {},
   "outputs": [],
   "source": [
    "plt.plot([a for a in range(len(cost))],cost)\n",
    "plt.show()"
   ]
  },
  {
   "cell_type": "code",
   "execution_count": null,
   "id": "6fd01004-e63f-4cda-943e-31a23ff528f3",
   "metadata": {},
   "outputs": [],
   "source": []
  }
 ],
 "metadata": {
  "kernelspec": {
   "display_name": "Python 3 (ipykernel)",
   "language": "python",
   "name": "python3"
  },
  "language_info": {
   "codemirror_mode": {
    "name": "ipython",
    "version": 3
   },
   "file_extension": ".py",
   "mimetype": "text/x-python",
   "name": "python",
   "nbconvert_exporter": "python",
   "pygments_lexer": "ipython3",
   "version": "3.11.6"
  }
 },
 "nbformat": 4,
 "nbformat_minor": 5
}
